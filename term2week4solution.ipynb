{
 "cells": [
  {
   "cell_type": "code",
   "execution_count": 1,
   "id": "nearby-recruitment",
   "metadata": {},
   "outputs": [
    {
     "name": "stdout",
     "output_type": "stream",
     "text": [
      "Autograder loaded successfully!\n",
      "Remember to always restart and run all from the Kernel menu before submitting!\n"
     ]
    }
   ],
   "source": [
    "from autograder_term2week4 import *\n",
    "_globals = globals()\n",
    "import numpy as np\n",
    "import random as rnd\n",
    "import numpy.random as nrnd\n",
    "import matplotlib.pyplot as plt\n",
    "from mpl_toolkits.mplot3d import Axes3D\n",
    "%matplotlib inline"
   ]
  },
  {
   "cell_type": "markdown",
   "id": "coastal-hudson",
   "metadata": {
    "nbgrader": {
     "grade": false,
     "grade_id": "cell-9a2d6548d091858f",
     "locked": true,
     "schema_version": 3,
     "solution": false,
     "task": false
    }
   },
   "source": [
    "# <center> Introduction to Mathematical Computing </center>\n",
    "### <center>Phil Ramsden, Boumediene Hamzi, Sam Brzezicki</center>\n",
    "\n",
    "# <center> Worksheet 8: random, numpy.random and matplotlib.pyplot</center>\n",
    "\n",
    "**NOTE:** When answering a question, remember to remove the `raise NotImplementedError()` line."
   ]
  },
  {
   "cell_type": "markdown",
   "id": "4b3b5e92",
   "metadata": {
    "nbgrader": {
     "grade": false,
     "grade_id": "cell-4e52cc4a449c1686",
     "locked": true,
     "schema_version": 3,
     "solution": false,
     "task": false
    }
   },
   "source": [
    "## Question 0: don't miss this bit!\n",
    "\n",
    "In the file called `my_username.txt`, type your <b>short-form College user name</b> (this will usually be one or more letters followed by three or more figures, such as qk4019). Don't use quote marks. Then save the file."
   ]
  },
  {
   "cell_type": "code",
   "execution_count": 3,
   "id": "cd554b1d",
   "metadata": {
    "nbgrader": {
     "grade": true,
     "grade_id": "cell-e651f6a984190fff",
     "locked": true,
     "points": 5,
     "schema_version": 3,
     "solution": false,
     "task": false
    }
   },
   "outputs": [
    {
     "name": "stdout",
     "output_type": "stream",
     "text": [
      "You've changed the contents of the file; thank you!\n",
      "Your username has been recognised; thank you!\n",
      "\n",
      "5 out of 5 marks\n"
     ]
    },
    {
     "data": {
      "text/plain": [
       "5"
      ]
     },
     "execution_count": 3,
     "metadata": {},
     "output_type": "execute_result"
    }
   ],
   "source": [
    "# 5 Marks\n",
    "# Do not try to delete this cell\n",
    "# Run this cell for grading of Question 0\n",
    "_globals = globals()\n",
    "question0(_globals)"
   ]
  },
  {
   "cell_type": "markdown",
   "id": "overhead-colombia",
   "metadata": {
    "nbgrader": {
     "grade": false,
     "grade_id": "cell-5bc1ef50e4db19b0",
     "locked": true,
     "schema_version": 3,
     "solution": false,
     "task": false
    }
   },
   "source": [
    "## Question 1\n",
    "\n",
    "(a) Using the `random` function from the `random` module in a comprehension, or otherwise, create a list of 10 random floats between 0 and 1, calling it `randlist10`."
   ]
  },
  {
   "cell_type": "code",
   "execution_count": null,
   "id": "civil-madison",
   "metadata": {
    "nbgrader": {
     "grade": false,
     "grade_id": "cell-8effae7d5d727daf",
     "locked": false,
     "schema_version": 3,
     "solution": true,
     "task": false
    }
   },
   "outputs": [],
   "source": [
    "### BEGIN SOLUTION\n",
    "randlist10 = [rnd.random() for n in range(10)]\n",
    "### END SOLUTION\n",
    "print(randlist10)"
   ]
  },
  {
   "cell_type": "code",
   "execution_count": null,
   "id": "through-butter",
   "metadata": {
    "nbgrader": {
     "grade": true,
     "grade_id": "cell-3bb8a366d0cd2f16",
     "locked": true,
     "points": 1,
     "schema_version": 3,
     "solution": false,
     "task": false
    }
   },
   "outputs": [],
   "source": [
    "# 1 Mark\n",
    "# Do not try to delete this cell\n",
    "# Run this cell for grading\n",
    "_globals = globals()\n",
    "question1a(_globals)"
   ]
  },
  {
   "cell_type": "markdown",
   "id": "explicit-grove",
   "metadata": {
    "nbgrader": {
     "grade": false,
     "grade_id": "cell-dbc5e5fdfd51d489",
     "locked": true,
     "schema_version": 3,
     "solution": false,
     "task": false
    }
   },
   "source": [
    "(b) Using a single call to the `random` function from the `numpy.random` submodule (a comprehension or loop shouldn't be necessary), create an <em>array</em> of ten random floats between 0 and 1, calling it `randarray10`."
   ]
  },
  {
   "cell_type": "code",
   "execution_count": null,
   "id": "quarterly-clothing",
   "metadata": {
    "nbgrader": {
     "grade": false,
     "grade_id": "cell-8aa73d4f6c33fc13",
     "locked": false,
     "schema_version": 3,
     "solution": true,
     "task": false
    }
   },
   "outputs": [],
   "source": [
    "### BEGIN SOLUTION\n",
    "randarray10 = nrnd.random(10)\n",
    "### END SOLUTION\n",
    "print(randarray10)"
   ]
  },
  {
   "cell_type": "code",
   "execution_count": null,
   "id": "diagnostic-military",
   "metadata": {
    "nbgrader": {
     "grade": true,
     "grade_id": "cell-ce170d2b98f8e75d",
     "locked": true,
     "points": 1,
     "schema_version": 3,
     "solution": false,
     "task": false
    }
   },
   "outputs": [],
   "source": [
    "# 1 Mark\n",
    "# Do not try to delete this cell\n",
    "# Run this cell for grading\n",
    "_globals = globals()\n",
    "question1b(_globals)"
   ]
  },
  {
   "cell_type": "markdown",
   "id": "behind-header",
   "metadata": {
    "nbgrader": {
     "grade": false,
     "grade_id": "cell-ee0e74dcf3241947",
     "locked": true,
     "schema_version": 3,
     "solution": false,
     "task": false
    }
   },
   "source": [
    "(c) Using a single call to the `random` function from the `numpy.random` submodule, create a 20 by 10 array of random floats between 0 and 1, calling it `randarray20by10`."
   ]
  },
  {
   "cell_type": "code",
   "execution_count": null,
   "id": "amber-exemption",
   "metadata": {
    "nbgrader": {
     "grade": false,
     "grade_id": "cell-5af25bc81361e627",
     "locked": false,
     "schema_version": 3,
     "solution": true,
     "task": false
    }
   },
   "outputs": [],
   "source": [
    "### BEGIN SOLUTION\n",
    "randarray20by10 = nrnd.random([20,10])\n",
    "### END SOLUTION\n",
    "print(randarray20by10)"
   ]
  },
  {
   "cell_type": "code",
   "execution_count": null,
   "id": "moved-reconstruction",
   "metadata": {
    "nbgrader": {
     "grade": true,
     "grade_id": "cell-fca540c130798a46",
     "locked": true,
     "points": 1,
     "schema_version": 3,
     "solution": false,
     "task": false
    }
   },
   "outputs": [],
   "source": [
    "# 1 Mark\n",
    "# Do not try to delete this cell\n",
    "# Run this cell for grading\n",
    "_globals = globals()\n",
    "question1c(_globals)"
   ]
  },
  {
   "cell_type": "markdown",
   "id": "technological-sister",
   "metadata": {
    "nbgrader": {
     "grade": false,
     "grade_id": "cell-9f99e6636bb7d61c",
     "locked": true,
     "schema_version": 3,
     "solution": false,
     "task": false
    }
   },
   "source": [
    "(d) Using the `mean` function from `numpy`, with the keyword argument `axis` set to 1, calculate the 20 means of the 20 rows of your 20 by 10 array, as an array called `mean20`."
   ]
  },
  {
   "cell_type": "code",
   "execution_count": null,
   "id": "centered-terminology",
   "metadata": {
    "nbgrader": {
     "grade": false,
     "grade_id": "cell-afba63ef39f0040f",
     "locked": false,
     "schema_version": 3,
     "solution": true,
     "task": false
    }
   },
   "outputs": [],
   "source": [
    "### BEGIN SOLUTION\n",
    "mean20 = np.mean(randarray20by10,axis=1)\n",
    "### END SOLUTION\n",
    "print(mean20)"
   ]
  },
  {
   "cell_type": "code",
   "execution_count": null,
   "id": "brief-helping",
   "metadata": {
    "nbgrader": {
     "grade": true,
     "grade_id": "cell-2a50ad10a36fbb2e",
     "locked": true,
     "points": 1,
     "schema_version": 3,
     "solution": false,
     "task": false
    }
   },
   "outputs": [],
   "source": [
    "# 1 Mark\n",
    "# Do not try to delete this cell\n",
    "# Run this cell for grading\n",
    "_globals = globals()\n",
    "question1d(_globals)"
   ]
  },
  {
   "cell_type": "markdown",
   "id": "rising-costa",
   "metadata": {
    "nbgrader": {
     "grade": false,
     "grade_id": "cell-176270e3e7034b85",
     "locked": true,
     "schema_version": 3,
     "solution": false,
     "task": false
    }
   },
   "source": [
    "(e) Write and test a function called `rowmeans` which takes as its arguments two positive integers `nrows` and `ncols`, and returns an array with `nrows` elements, consisting of the means of each of the rows of an `nrows` by `ncols` array of random floats between 0 and 1."
   ]
  },
  {
   "cell_type": "code",
   "execution_count": null,
   "id": "consolidated-oklahoma",
   "metadata": {
    "nbgrader": {
     "grade": false,
     "grade_id": "cell-fd01131afb84211e",
     "locked": false,
     "schema_version": 3,
     "solution": true,
     "task": false
    }
   },
   "outputs": [],
   "source": [
    "def rowmeans(nrows, ncols):\n",
    "    ### BEGIN SOLUTION\n",
    "    from numpy import mean\n",
    "    from numpy.random import random\n",
    "    return mean(random([nrows,ncols]),axis=1)\n",
    "    ### END SOLUTION"
   ]
  },
  {
   "cell_type": "code",
   "execution_count": null,
   "id": "innocent-system",
   "metadata": {
    "nbgrader": {
     "grade": true,
     "grade_id": "cell-38309cec0bda6466",
     "locked": true,
     "points": 2,
     "schema_version": 3,
     "solution": false,
     "task": false
    }
   },
   "outputs": [],
   "source": [
    "# 2 Marks\n",
    "# Do not try to delete this cell\n",
    "# Run this cell for grading\n",
    "_globals = globals()\n",
    "question1e(_globals)"
   ]
  },
  {
   "cell_type": "markdown",
   "id": "failing-quality",
   "metadata": {
    "nbgrader": {
     "grade": false,
     "grade_id": "cell-ff83abef544ce84a",
     "locked": true,
     "schema_version": 3,
     "solution": false,
     "task": false
    }
   },
   "source": [
    "(f) Write and test a function called `rowmeanshist` which takes as its arguments two positive integers `nrows` and `ncols`, and generates a histogram of `rowmeans(nrows, ncols)`."
   ]
  },
  {
   "cell_type": "code",
   "execution_count": null,
   "id": "quantitative-archive",
   "metadata": {
    "nbgrader": {
     "grade": false,
     "grade_id": "cell-bd17254127375e4a",
     "locked": false,
     "schema_version": 3,
     "solution": true,
     "task": false
    }
   },
   "outputs": [],
   "source": [
    "def rowmeanhist(nrows, ncols):\n",
    "    ### BEGIN SOLUTION\n",
    "    plt.hist(rowmeans(nrows,ncols))\n",
    "    ### END SOLUTION"
   ]
  },
  {
   "cell_type": "markdown",
   "id": "progressive-contrary",
   "metadata": {
    "nbgrader": {
     "grade": false,
     "grade_id": "cell-a7499617da2c7513",
     "locked": true,
     "schema_version": 3,
     "solution": false,
     "task": false
    }
   },
   "source": [
    "(g) Using your function investigate the distributions of the means for `nrows` equal to 400 and `ncols` equal to 1, 2, 4, 8 and 16.\n",
    "\n",
    "Which of the following statements is true?\n",
    "\n",
    "I. As the number of columns increases, the mean tends to increase.<br/>\n",
    "II. As the number of columns increases, the means tend to vary less.<br/>\n",
    "III. As the number of columns increases, the distribution of the means becomes more approximately normal.<br/>\n",
    "\n",
    "1. All of them.\n",
    "2. All of them except I.\n",
    "3. All of them except II.\n",
    "4. All of them except III."
   ]
  },
  {
   "cell_type": "code",
   "execution_count": null,
   "id": "warming-specific",
   "metadata": {
    "nbgrader": {
     "grade": false,
     "grade_id": "cell-48bf614b9017ac21",
     "locked": false,
     "schema_version": 3,
     "solution": true,
     "task": false
    }
   },
   "outputs": [],
   "source": [
    "### BEGIN SOLUTION\n",
    "question1g_answer = 2\n",
    "### END SOLUTION\n",
    "question1g_answer = # insert one of 1, 2, 3 or 4\n"
   ]
  },
  {
   "cell_type": "code",
   "execution_count": null,
   "id": "subtle-scoop",
   "metadata": {
    "nbgrader": {
     "grade": true,
     "grade_id": "cell-bb217909883073ea",
     "locked": true,
     "points": 1,
     "schema_version": 3,
     "solution": false,
     "task": false
    }
   },
   "outputs": [],
   "source": [
    "# 1 Mark\n",
    "assert(question1g_answer == question1g())\n",
    "print('test case passed!')"
   ]
  },
  {
   "cell_type": "markdown",
   "id": "gross-shield",
   "metadata": {
    "nbgrader": {
     "grade": false,
     "grade_id": "cell-ad0c1460175a5224",
     "locked": true,
     "schema_version": 3,
     "solution": false,
     "task": false
    }
   },
   "source": [
    "## Question 2\n",
    "\n",
    "(a) Define both `x_values1` and `y_values1` as 1D NumPy arrays of 25 equally-spaced floats between $-1.2$ and $1.2$ inclusive, and use the `meshgrid` function to define `x1` and `y1` as 25-by-25 arrays of, respectively, $x$- and $y$-coordinates specifying a lattice in the plane."
   ]
  },
  {
   "cell_type": "code",
   "execution_count": null,
   "id": "irish-story",
   "metadata": {
    "nbgrader": {
     "grade": false,
     "grade_id": "cell-08956e751f87f27e",
     "locked": false,
     "schema_version": 3,
     "solution": true,
     "task": false
    }
   },
   "outputs": [],
   "source": [
    "### BEGIN SOLUTION\n",
    "x_values1 = np.linspace(-1.2, 1.2, 25)\n",
    "y_values1 = np.linspace(-1.2, 1.2, 25)\n",
    "x1, y1 = np.meshgrid(x_values1, y_values1)\n",
    "### END SOLUTION\n",
    "\n",
    "# I don't think it's worth printing these values; you may disagree!"
   ]
  },
  {
   "cell_type": "code",
   "execution_count": null,
   "id": "blessed-junction",
   "metadata": {
    "nbgrader": {
     "grade": true,
     "grade_id": "cell-6f64349f1b251f07",
     "locked": true,
     "points": 2,
     "schema_version": 3,
     "solution": false,
     "task": false
    }
   },
   "outputs": [],
   "source": [
    "# 2 Marks\n",
    "# Do not try to delete this cell\n",
    "# Run this cell for grading\n",
    "_globals = globals()\n",
    "question2a(_globals)"
   ]
  },
  {
   "cell_type": "markdown",
   "id": "seasonal-import",
   "metadata": {
    "nbgrader": {
     "grade": false,
     "grade_id": "cell-ac908613e716fd99",
     "locked": true,
     "schema_version": 3,
     "solution": false,
     "task": false
    }
   },
   "source": [
    "(b) Use the `imshow` function from `matplotlib.pyplot` to create, on two separate pairs of axes, visualisations of the functions\n",
    "\n",
    "$$u(x,y) = x^4-6\\,x^2\\,y^2+y^4$$\n",
    "and\n",
    "$$v(x,y) = 4\\,x^3\\,y-4\\,x\\,y^3$$\n",
    "on the points of this lattice.\n",
    "\n",
    "(Autograding won't be able to help much here.)\n",
    "\n",
    "[Mathematical note: these are, respectively, the real and imaginary parts of $(x+i\\,y)^4$, where $x$ and $y$ are real.]"
   ]
  },
  {
   "cell_type": "code",
   "execution_count": null,
   "id": "pacific-composer",
   "metadata": {
    "nbgrader": {
     "grade": false,
     "grade_id": "cell-999f26a0d59f1ac3",
     "locked": false,
     "schema_version": 3,
     "solution": true,
     "task": false
    }
   },
   "outputs": [],
   "source": [
    "# Cell for first plot\n",
    "### BEGIN SOLUTION\n",
    "u1 = x1**4 - 6*x1**2*y1**2+y1**4\n",
    "plt.imshow(u1)\n",
    "### END SOLUTION"
   ]
  },
  {
   "cell_type": "code",
   "execution_count": null,
   "id": "indie-vegetation",
   "metadata": {
    "nbgrader": {
     "grade": false,
     "grade_id": "cell-b9e9238ad749ec25",
     "locked": false,
     "schema_version": 3,
     "solution": true,
     "task": false
    }
   },
   "outputs": [],
   "source": [
    "# Cell for second plot\n",
    "### BEGIN SOLUTION\n",
    "v1 = 4*x1**3*y1 - 4*x1*y1**3\n",
    "plt.imshow(v1)\n",
    "### END SOLUTION"
   ]
  },
  {
   "cell_type": "markdown",
   "id": "jewish-effort",
   "metadata": {
    "nbgrader": {
     "grade": false,
     "grade_id": "cell-582ae8fb42effb67",
     "locked": true,
     "schema_version": 3,
     "solution": false,
     "task": false
    }
   },
   "source": [
    "(c) Repeat parts (a) and (b), but this time use `x_values2` and `y_values2`, which you should define as 1D arrays of 121 equally-spaced floats between $-1.2$ and $1.2$ inclusive (and then go on to define `x2` and `y2` accordingly). This should create higher-resolution plots. \n",
    "\n",
    "(Again, autograding won't help you with the plots!)"
   ]
  },
  {
   "cell_type": "code",
   "execution_count": 2,
   "id": "printable-saver",
   "metadata": {
    "nbgrader": {
     "grade": false,
     "grade_id": "cell-3f2ed706aefec34b",
     "locked": false,
     "schema_version": 3,
     "solution": true,
     "task": false
    }
   },
   "outputs": [],
   "source": [
    "# Cell for setting up variables\n",
    "### BEGIN SOLUTION\n",
    "x_values2 = np.linspace(-1.2, 1.2, 121)\n",
    "y_values2 = np.linspace(-1.2, 1.2, 121)\n",
    "x2, y2 = np.meshgrid(x_values2, y_values2)\n",
    "### END SOLUTION\n",
    "\n",
    "# I don't think it's worth printing these values; you may disagree!"
   ]
  },
  {
   "cell_type": "code",
   "execution_count": 3,
   "id": "legendary-typing",
   "metadata": {
    "nbgrader": {
     "grade": true,
     "grade_id": "cell-650df88834e1db45",
     "locked": true,
     "points": 2,
     "schema_version": 3,
     "solution": false,
     "task": false
    }
   },
   "outputs": [
    {
     "name": "stdout",
     "output_type": "stream",
     "text": [
      "x_values2 and y_values2 defined correctly\n",
      "x2 and y2 defined correctly\n",
      "\n",
      "2 out of 2\n"
     ]
    },
    {
     "data": {
      "text/plain": [
       "2"
      ]
     },
     "execution_count": 3,
     "metadata": {},
     "output_type": "execute_result"
    }
   ],
   "source": [
    "# 2 Marks\n",
    "# Do not try to delete this cell\n",
    "# Run this cell for grading\n",
    "_globals = globals()\n",
    "question2c(_globals)"
   ]
  },
  {
   "cell_type": "code",
   "execution_count": 4,
   "id": "quick-niagara",
   "metadata": {
    "nbgrader": {
     "grade": false,
     "grade_id": "cell-f93ed31b5fdc38b6",
     "locked": false,
     "schema_version": 3,
     "solution": true,
     "task": false
    }
   },
   "outputs": [
    {
     "data": {
      "text/plain": [
       "<matplotlib.image.AxesImage at 0x202a98f6d60>"
      ]
     },
     "execution_count": 4,
     "metadata": {},
     "output_type": "execute_result"
    },
    {
     "data": {
      "image/png": "[encoded data removed]",
      "text/plain": [
       "<Figure size 640x480 with 1 Axes>"
      ]
     },
     "metadata": {},
     "output_type": "display_data"
    }
   ],
   "source": [
    "# Cell for first plot\n",
    "### BEGIN SOLUTION\n",
    "u2 = x2**4 - 6*x2**2*y2**2+y2**4\n",
    "plt.imshow(u2)\n",
    "### END SOLUTION"
   ]
  },
  {
   "cell_type": "code",
   "execution_count": 5,
   "id": "hollow-report",
   "metadata": {
    "nbgrader": {
     "grade": false,
     "grade_id": "cell-58cb28ff7d8687c1",
     "locked": false,
     "schema_version": 3,
     "solution": true,
     "task": false
    }
   },
   "outputs": [
    {
     "data": {
      "text/plain": [
       "<matplotlib.image.AxesImage at 0x202aa1cfee0>"
      ]
     },
     "execution_count": 5,
     "metadata": {},
     "output_type": "execute_result"
    },
    {
     "data": {
      "image/png": "[encoded data removed]",
      "text/plain": [
       "<Figure size 640x480 with 1 Axes>"
      ]
     },
     "metadata": {},
     "output_type": "display_data"
    }
   ],
   "source": [
    "# Cell for second plot\n",
    "### BEGIN SOLUTION\n",
    "v2 = 4*x2**3*y2 - 4*x2*y2**3\n",
    "plt.imshow(v2)\n",
    "### END SOLUTION"
   ]
  },
  {
   "cell_type": "markdown",
   "id": "agricultural-tiger",
   "metadata": {
    "nbgrader": {
     "grade": false,
     "grade_id": "cell-d418173e03091553",
     "locked": true,
     "schema_version": 3,
     "solution": false,
     "task": false
    }
   },
   "source": [
    "(d) Create, on the same pair of axes, contour plots of $u(x,y)$ (in blue) and $v(x,y)$ (in red). Use `x2` and `y2`, and make the scales on both axes equal."
   ]
  },
  {
   "cell_type": "code",
   "execution_count": 6,
   "id": "constitutional-cooper",
   "metadata": {
    "nbgrader": {
     "grade": false,
     "grade_id": "cell-b63bc1e74636097d",
     "locked": false,
     "schema_version": 3,
     "solution": true,
     "task": false
    }
   },
   "outputs": [
    {
     "data": {
      "image/png": "[encoded data removed]",
      "text/plain": [
       "<Figure size 640x480 with 1 Axes>"
      ]
     },
     "metadata": {},
     "output_type": "display_data"
    }
   ],
   "source": [
    "### BEGIN SOLUTION\n",
    "plt.contour(x2,y2,u2,colors='blue')\n",
    "plt.contour(x2,y2,v2,colors='red')\n",
    "plt.axis('equal');\n",
    "### END SOLUTION"
   ]
  },
  {
   "cell_type": "markdown",
   "id": "future-privilege",
   "metadata": {
    "nbgrader": {
     "grade": false,
     "grade_id": "cell-92188fc2d0ea78d0",
     "locked": true,
     "schema_version": 3,
     "solution": false,
     "task": false
    }
   },
   "source": [
    "(e) Which of the following is consistent with your diagram?\n",
    "\n",
    "<ol>\n",
    "    <li>The contours of ${\\rm Re}\\left((x+i\\,y)^4\\right)$ and ${\\rm Im}\\left((x+i\\,y)^4\\right)$ intersect at right angles everywhere.</li>\n",
    "    <li>The contours of ${\\rm Re}\\left((x+i\\,y)^4\\right)$ and ${\\rm Im}\\left((x+i\\,y)^4\\right)$ intersect at right angles everywhere except at $(x+i\\,y)=0$.</li>\n",
    "    <li>The contours of ${\\rm Re}\\left((x+i\\,y)^4\\right)$ and ${\\rm Im}\\left((x+i\\,y)^4\\right)$ do not in general intersect at right angles.</li>\n",
    "</ol>"
   ]
  },
  {
   "cell_type": "code",
   "execution_count": null,
   "id": "alpine-notion",
   "metadata": {
    "nbgrader": {
     "grade": false,
     "grade_id": "cell-336d594baf119478",
     "locked": false,
     "schema_version": 3,
     "solution": true,
     "task": false
    }
   },
   "outputs": [],
   "source": [
    "### BEGIN SOLUTION\n",
    "question2e_answer = 2\n",
    "### END SOLUTION\n",
    "question2e_answer = # insert one of 1, 2 or 3"
   ]
  },
  {
   "cell_type": "code",
   "execution_count": null,
   "id": "unlike-apparatus",
   "metadata": {
    "nbgrader": {
     "grade": true,
     "grade_id": "cell-aadae8f086ef3bde",
     "locked": true,
     "points": 1,
     "schema_version": 3,
     "solution": false,
     "task": false
    }
   },
   "outputs": [],
   "source": [
    "# 1 Mark\n",
    "assert(question2e_answer == question2e())\n",
    "print('test case passed!')"
   ]
  },
  {
   "cell_type": "markdown",
   "id": "constant-schedule",
   "metadata": {
    "nbgrader": {
     "grade": false,
     "grade_id": "cell-8dd392025c3c1ed1",
     "locked": true,
     "schema_version": 3,
     "solution": false,
     "task": false
    }
   },
   "source": [
    "(f) Create, on the same pair of axes, a diagram consisting of the contours of $v(x,y)$, obtained using `x2` and `y2`, on which is superimposed a quiver plot of the vector field \n",
    "$$\\left(\\frac{\\partial v}{\\partial x},\\frac{\\partial v}{\\partial y}\\right),$$\n",
    "obtained using the coarser-grained `x1` and `y1`. Show the former in blue and the latter in red. Make the scale the same on both axes.\n",
    "\n",
    "[Note: it's probably easiest to do the differentiations by hand, though you're welcome to use SymPy if you like.]"
   ]
  },
  {
   "cell_type": "code",
   "execution_count": null,
   "id": "complex-shoulder",
   "metadata": {
    "nbgrader": {
     "grade": false,
     "grade_id": "cell-b0554a745e8b4bdb",
     "locked": false,
     "schema_version": 3,
     "solution": true,
     "task": false
    }
   },
   "outputs": [],
   "source": [
    "### BEGIN SOLUTION\n",
    "dvdx1 = 12*x1**2*y1-4*y1**3\n",
    "dvdy1 = 4*x1**3-12*x1*y1**2\n",
    "plt.contour(x2,y2,v2,colors='blue')\n",
    "plt.quiver(x1,y1,dvdx1,dvdy1,color='red')\n",
    "plt.axis('equal');\n",
    "### END SOLUTION"
   ]
  },
  {
   "cell_type": "markdown",
   "id": "coated-concord",
   "metadata": {
    "nbgrader": {
     "grade": false,
     "grade_id": "cell-c69ef03e399e437b",
     "locked": true,
     "schema_version": 3,
     "solution": false,
     "task": false
    }
   },
   "source": [
    "(g) Create, on the same pair of axes, a diagram consisting of the contours of $v(x,y)$, obtained using `x2` and `y2`, on which is superimposed a quiver plot of the vector field \n",
    "$$\\left(\\frac{\\partial u}{\\partial x},\\frac{\\partial u}{\\partial y}\\right),$$\n",
    "obtained using the coarser-grained `x1` and `y1`. Show the former in blue and the latter in red. Make the scale the same on both axes.\n",
    "\n",
    "[Note: this isn't a typo; I really do mean to use $v$ for the contour plot and $u$ for the quiver plot here.]"
   ]
  },
  {
   "cell_type": "code",
   "execution_count": null,
   "id": "educated-vehicle",
   "metadata": {
    "nbgrader": {
     "grade": false,
     "grade_id": "cell-c3cc1ae42fcc34a9",
     "locked": false,
     "schema_version": 3,
     "solution": true,
     "task": false
    }
   },
   "outputs": [],
   "source": [
    "### BEGIN SOLUTION\n",
    "dudx1 = 4*x1**3-12*x1*y1**2\n",
    "dudy1 = -12*x1**2*y1+4*y1**3\n",
    "plt.contour(x2,y2,v2,colors='blue')\n",
    "plt.quiver(x1,y1,dudx1,dudy1,color='red')\n",
    "plt.axis('equal');\n",
    "### END SOLUTION"
   ]
  },
  {
   "cell_type": "markdown",
   "id": "following-lover",
   "metadata": {
    "nbgrader": {
     "grade": false,
     "grade_id": "cell-0c3696962b59e74e",
     "locked": true,
     "schema_version": 3,
     "solution": false,
     "task": false
    }
   },
   "source": [
    "(h) Create on separate sets of axes, using 3D projections, a wireframe plot, a surface plot and a 3D contour plot of $v(x, y)$.  In each case, use the finer-grained versions of the data."
   ]
  },
  {
   "cell_type": "code",
   "execution_count": null,
   "id": "contemporary-profit",
   "metadata": {
    "nbgrader": {
     "grade": false,
     "grade_id": "cell-61d50292422b38ae",
     "locked": false,
     "schema_version": 3,
     "solution": true,
     "task": false
    }
   },
   "outputs": [],
   "source": [
    "# Cell for first plot\n",
    "### BEGIN SOLUTION\n",
    "fig = plt.figure()\n",
    "ax = plt.axes(projection='3d')\n",
    "ax.plot_wireframe(x2, y2, v2)\n",
    "### END SOLUTION"
   ]
  },
  {
   "cell_type": "code",
   "execution_count": null,
   "id": "valuable-turkey",
   "metadata": {
    "nbgrader": {
     "grade": false,
     "grade_id": "cell-4610a5d614edfa07",
     "locked": false,
     "schema_version": 3,
     "solution": true,
     "task": false
    }
   },
   "outputs": [],
   "source": [
    "# Cell for second plot\n",
    "### BEGIN SOLUTION\n",
    "fig = plt.figure()\n",
    "ax = plt.axes(projection='3d')\n",
    "ax.plot_surface(x2, y2, v2)\n",
    "### END SOLUTION"
   ]
  },
  {
   "cell_type": "code",
   "execution_count": null,
   "id": "stuck-livestock",
   "metadata": {
    "nbgrader": {
     "grade": false,
     "grade_id": "cell-91bd12f9150c8117",
     "locked": false,
     "schema_version": 3,
     "solution": true,
     "task": false
    }
   },
   "outputs": [],
   "source": [
    "# Cell for third plot\n",
    "### BEGIN SOLUTION\n",
    "fig = plt.figure()\n",
    "ax = plt.axes(projection='3d')\n",
    "ax.contour(x2, y2, v2)\n",
    "### END SOLUTION"
   ]
  },
  {
   "cell_type": "markdown",
   "id": "hired-shooting",
   "metadata": {
    "nbgrader": {
     "grade": false,
     "grade_id": "cell-da779c119900b13c",
     "locked": true,
     "schema_version": 3,
     "solution": false,
     "task": false
    }
   },
   "source": [
    "## Question 3\n",
    "\n",
    "(a) Define\n",
    "```python\n",
    "n = 10\n",
    "p = 0.3\n",
    "```\n",
    "\n",
    "Then define `r` as a 1D array consisting of the integers between 0 and `n` inclusive."
   ]
  },
  {
   "cell_type": "code",
   "execution_count": 7,
   "id": "humanitarian-incentive",
   "metadata": {
    "nbgrader": {
     "grade": false,
     "grade_id": "cell-0d14e655b59b9cee",
     "locked": false,
     "schema_version": 3,
     "solution": true,
     "task": false
    }
   },
   "outputs": [
    {
     "name": "stdout",
     "output_type": "stream",
     "text": [
      "10\n",
      "0.3\n",
      "[ 0  1  2  3  4  5  6  7  8  9 10]\n"
     ]
    }
   ],
   "source": [
    "### BEGIN SOLUTION\n",
    "n = 10\n",
    "p = 0.3\n",
    "r = np.arange(0,n+1)\n",
    "### END SOLUTION\n",
    "print(n)\n",
    "print(p)\n",
    "print(r)"
   ]
  },
  {
   "cell_type": "code",
   "execution_count": 8,
   "id": "champion-financing",
   "metadata": {
    "nbgrader": {
     "grade": true,
     "grade_id": "cell-de68806389692a9b",
     "locked": true,
     "points": 2,
     "schema_version": 3,
     "solution": false,
     "task": false
    }
   },
   "outputs": [
    {
     "name": "stdout",
     "output_type": "stream",
     "text": [
      "n and p defined correctly\n",
      "r defined correctly\n",
      "\n",
      "2 out of 2\n"
     ]
    },
    {
     "data": {
      "text/plain": [
       "2"
      ]
     },
     "execution_count": 8,
     "metadata": {},
     "output_type": "execute_result"
    }
   ],
   "source": [
    "# 2 Marks\n",
    "# Do not try to delete this cell\n",
    "# Run this cell for grading\n",
    "_globals = globals()\n",
    "question3a(_globals)"
   ]
  },
  {
   "cell_type": "markdown",
   "id": "through-evanescence",
   "metadata": {
    "nbgrader": {
     "grade": false,
     "grade_id": "cell-5fc2371c623c3f16",
     "locked": true,
     "schema_version": 3,
     "solution": false,
     "task": false
    }
   },
   "source": [
    "(b) Using `numpy`'s `cumprod` function, or otherwise, define `rfac` as a 1D array consisting of the integers $0!, 1!, 2!, \\dots n!$, and `nmrfac` as a 1D array consisting of the integers $n!, (n-1)!, (n-2)!, \\dots, 0!$."
   ]
  },
  {
   "cell_type": "code",
   "execution_count": 9,
   "id": "turkish-burden",
   "metadata": {
    "nbgrader": {
     "grade": false,
     "grade_id": "cell-5b04f8de66d3d075",
     "locked": false,
     "schema_version": 3,
     "solution": true,
     "task": false
    }
   },
   "outputs": [
    {
     "name": "stdout",
     "output_type": "stream",
     "text": [
      "[      1       1       2       6      24     120     720    5040   40320\n",
      "  362880 3628800]\n",
      "[3628800  362880   40320    5040     720     120      24       6       2\n",
      "       1       1]\n"
     ]
    }
   ],
   "source": [
    "### BEGIN SOLUTION\n",
    "rfac = np.append([1],np.cumprod(r[1:]))\n",
    "nmrfac = rfac[-1::-1]\n",
    "### END SOLUTION\n",
    "print(rfac)\n",
    "print(nmrfac)"
   ]
  },
  {
   "cell_type": "code",
   "execution_count": 10,
   "id": "smaller-chair",
   "metadata": {
    "nbgrader": {
     "grade": true,
     "grade_id": "cell-ccee552c5ba065e3",
     "locked": true,
     "points": 2,
     "schema_version": 3,
     "solution": false,
     "task": false
    }
   },
   "outputs": [
    {
     "name": "stdout",
     "output_type": "stream",
     "text": [
      "rfac defined correctly\n",
      "nmrfac defined correctly\n",
      "\n",
      "2 out of 2\n"
     ]
    },
    {
     "data": {
      "text/plain": [
       "2"
      ]
     },
     "execution_count": 10,
     "metadata": {},
     "output_type": "execute_result"
    }
   ],
   "source": [
    "# 2 Marks\n",
    "# Do not try to delete this cell\n",
    "# Run this cell for grading\n",
    "_globals = globals()\n",
    "question3b(_globals)"
   ]
  },
  {
   "cell_type": "markdown",
   "id": "stunning-jason",
   "metadata": {
    "nbgrader": {
     "grade": false,
     "grade_id": "cell-baa344d917768ccc",
     "locked": true,
     "schema_version": 3,
     "solution": false,
     "task": false
    }
   },
   "source": [
    "(c) Using `rfac` and `nmrfac`, or otherwise, define `bincoef` as a 1D array consisting of the binomial coefficients\n",
    "\n",
    "$$\\frac{n!}{0!\\,n!},\\frac{n!}{1!\\,(n-1)!},\\frac{n!}{2!\\,(n-2)!},\\dots,\\frac{n!}{n!\\,0!}.$$\n",
    "\n",
    "Then define `binprob` as a 1D array of floats, consisting of all the values of\n",
    "$$\\frac{n!}{r!\\,(n-r)!}\\,p^r\\,(1-p)^{n-r}$$\n",
    "for $r = 0,1,2,\\dots,n.$"
   ]
  },
  {
   "cell_type": "code",
   "execution_count": 11,
   "id": "integrated-duncan",
   "metadata": {
    "nbgrader": {
     "grade": false,
     "grade_id": "cell-150814d418bbdee1",
     "locked": false,
     "schema_version": 3,
     "solution": true,
     "task": false
    }
   },
   "outputs": [
    {
     "name": "stdout",
     "output_type": "stream",
     "text": [
      "[  1.  10.  45. 120. 210. 252. 210. 120.  45.  10.   1.]\n",
      "[2.82475249e-02 1.21060821e-01 2.33474440e-01 2.66827932e-01\n",
      " 2.00120949e-01 1.02919345e-01 3.67569090e-02 9.00169200e-03\n",
      " 1.44670050e-03 1.37781000e-04 5.90490000e-06]\n"
     ]
    }
   ],
   "source": [
    "### BEGIN SOLUTION\n",
    "bincoef = rfac[-1]/(rfac*nmrfac)\n",
    "binprob = bincoef * p**r * (1-p)**(n-r)\n",
    "### END SOLUTION\n",
    "print(bincoef)\n",
    "print(binprob)"
   ]
  },
  {
   "cell_type": "code",
   "execution_count": 12,
   "id": "identified-routine",
   "metadata": {
    "nbgrader": {
     "grade": true,
     "grade_id": "cell-079d267bcc0da88a",
     "locked": true,
     "points": 2,
     "schema_version": 3,
     "solution": false,
     "task": false
    }
   },
   "outputs": [
    {
     "name": "stdout",
     "output_type": "stream",
     "text": [
      "bincoef defined correctly\n",
      "binprob defined correctly\n",
      "\n",
      "2 out of 2\n"
     ]
    },
    {
     "data": {
      "text/plain": [
       "2"
      ]
     },
     "execution_count": 12,
     "metadata": {},
     "output_type": "execute_result"
    }
   ],
   "source": [
    "# 2 Marks\n",
    "# Do not try to delete this cell\n",
    "# Run this cell for grading\n",
    "_globals = globals()\n",
    "question3c(_globals)"
   ]
  },
  {
   "cell_type": "markdown",
   "id": "lucky-basin",
   "metadata": {
    "nbgrader": {
     "grade": false,
     "grade_id": "cell-3b6175195adac75c",
     "locked": true,
     "schema_version": 3,
     "solution": false,
     "task": false
    }
   },
   "source": [
    "(d) Create, on the same pair of axes, a blue line plot of `binprob` (on the vertical axis) against `r` (on the horizontal axis), a blue point plot of `prob` against `r` (with a nice big marker size like 10), and a red bar chart of `prob` against `r`. "
   ]
  },
  {
   "cell_type": "code",
   "execution_count": 13,
   "id": "owned-triangle",
   "metadata": {
    "nbgrader": {
     "grade": false,
     "grade_id": "cell-0e8447c361379dea",
     "locked": false,
     "schema_version": 3,
     "solution": true,
     "task": false
    }
   },
   "outputs": [
    {
     "data": {
      "image/png": "[encoded data removed]",
      "text/plain": [
       "<Figure size 640x480 with 1 Axes>"
      ]
     },
     "metadata": {},
     "output_type": "display_data"
    }
   ],
   "source": [
    "### BEGIN SOLUTION\n",
    "plt.plot(r,binprob,'b')\n",
    "plt.plot(r,binprob,'.b',markersize=10)\n",
    "plt.bar(r,binprob,color='red');\n",
    "### END SOLUTION"
   ]
  },
  {
   "cell_type": "markdown",
   "id": "varied-basketball",
   "metadata": {
    "nbgrader": {
     "grade": false,
     "grade_id": "cell-a0d74ebf855422b6",
     "locked": true,
     "schema_version": 3,
     "solution": false,
     "task": false
    }
   },
   "source": [
    "(e) Use the `binomial` function from NumPy's `random` submodule to create a sample `data100` of size 100 from the binomial distribution $B(n,p)$, with the above values of $n$ and $p$. Create, on the same pair of axes, a blue line plot of `binprob` (on the vertical axis) against `r` (on the horizontal axis), a blue point plot of `prob` against `r` (with a nice big marker size like 10), and a red <b>density histogram</b> of this data, using bin boundaries $-0.5, 0.5, 1.5, \\dots ,10.5$.\n",
    "\n",
    "Repeat for sample sizes of 1000 and 10000, calling your data `data1000` and `data10000`."
   ]
  },
  {
   "cell_type": "code",
   "execution_count": null,
   "id": "conservative-moore",
   "metadata": {
    "nbgrader": {
     "grade": false,
     "grade_id": "cell-e5d83668406c6e7f",
     "locked": false,
     "schema_version": 3,
     "solution": true,
     "task": false
    }
   },
   "outputs": [],
   "source": [
    "# Cell for first plot\n",
    "### BEGIN SOLUTION\n",
    "data100 = nrnd.binomial(n,p,100)\n",
    "plt.plot(r,binprob,'b')\n",
    "plt.plot(r,binprob,'.b',markersize=10)\n",
    "plt.hist(data100, bins = np.arange(-0.5,11.0), color='red', density=True);\n",
    "### END SOLUTION"
   ]
  },
  {
   "cell_type": "code",
   "execution_count": null,
   "id": "approximate-pointer",
   "metadata": {
    "nbgrader": {
     "grade": true,
     "grade_id": "cell-77f317c15e983e2a",
     "locked": true,
     "points": 1,
     "schema_version": 3,
     "solution": false,
     "task": false
    }
   },
   "outputs": [],
   "source": [
    "# For checking data100\n",
    "# 1 Mark\n",
    "# Do not try to delete this cell\n",
    "# Run this cell for grading\n",
    "_globals = globals()\n",
    "question3e1(_globals)"
   ]
  },
  {
   "cell_type": "code",
   "execution_count": null,
   "id": "experimental-savannah",
   "metadata": {
    "nbgrader": {
     "grade": false,
     "grade_id": "cell-81f94ed47c843470",
     "locked": false,
     "schema_version": 3,
     "solution": true,
     "task": false
    }
   },
   "outputs": [],
   "source": [
    "# Cell for second plot\n",
    "### BEGIN SOLUTION\n",
    "data1000 = nrnd.binomial(n,p,1000)\n",
    "plt.plot(r,binprob,'b')\n",
    "plt.plot(r,binprob,'.b',markersize=10)\n",
    "plt.hist(data1000, bins = np.arange(-0.5,11.0), color='red', density=True);\n",
    "### END SOLUTION"
   ]
  },
  {
   "cell_type": "code",
   "execution_count": null,
   "id": "encouraging-candy",
   "metadata": {
    "nbgrader": {
     "grade": true,
     "grade_id": "cell-33fb77e5b1e40209",
     "locked": true,
     "points": 1,
     "schema_version": 3,
     "solution": false,
     "task": false
    }
   },
   "outputs": [],
   "source": [
    "# For checking data1000\n",
    "# 1 Mark\n",
    "# Do not try to delete this cell\n",
    "# Run this cell for grading\n",
    "_globals = globals()\n",
    "question3e2(_globals)"
   ]
  },
  {
   "cell_type": "code",
   "execution_count": null,
   "id": "critical-scottish",
   "metadata": {
    "nbgrader": {
     "grade": false,
     "grade_id": "cell-1525f678157c898f",
     "locked": false,
     "schema_version": 3,
     "solution": true,
     "task": false
    }
   },
   "outputs": [],
   "source": [
    "# Cell for third plot\n",
    "### BEGIN SOLUTION\n",
    "data10000 = nrnd.binomial(n,p,10000)\n",
    "plt.plot(r,binprob,'b')\n",
    "plt.plot(r,binprob,'.b',markersize=10)\n",
    "plt.hist(data10000, bins = np.arange(-0.5,11.0), color='red', density=True);\n",
    "### END SOLUTION"
   ]
  },
  {
   "cell_type": "code",
   "execution_count": null,
   "id": "binding-barcelona",
   "metadata": {
    "nbgrader": {
     "grade": true,
     "grade_id": "cell-a5fdc908c5c754fb",
     "locked": true,
     "points": 1,
     "schema_version": 3,
     "solution": false,
     "task": false
    }
   },
   "outputs": [],
   "source": [
    "# For checking data10000\n",
    "# 1 Mark\n",
    "# Do not try to delete this cell\n",
    "# Run this cell for grading\n",
    "_globals = globals()\n",
    "question3e3(_globals)"
   ]
  },
  {
   "cell_type": "markdown",
   "id": "level-alignment",
   "metadata": {
    "nbgrader": {
     "grade": false,
     "grade_id": "cell-a6bc75c443b724e3",
     "locked": true,
     "schema_version": 3,
     "solution": false,
     "task": false
    }
   },
   "source": [
    "# Question 4\n",
    "\n",
    "This question is about <b>iterated function systems</b>. An iterated function system consists of a finite list of functions from the plane to itself (or, more generally, from $n$-dimensional space to itself). A function is chosen at random from the list, and a starting pair of coordinates fed into it, produding a new pair of coordinates. This is fed into a freshly-chosen random function from the list, and so on, for a large number of iterations.\n",
    "\n",
    "In all the cases we shall consider, the functions will be <b>affine</b>: that is, each will consist of a linear transformation followed by a translation. The system can therefore be completely specified by $n$ transformation matrices and $n$ translation vectors.\n",
    "\n",
    "(a) Write and test a function called `ifs_step`. Your function should take as its arguments:\n",
    "<ul>\n",
    "    <li>a 3D NumPy array called <code>matrices</code>; the first dimension of this array will be some positive integer (let's call it $n$), and the other two dimensions will be 2; this array can therefore represent a list of $n$ matrices;</li>\n",
    "    <li>a 2D NumPy array called <code>vectors</code>; the first dimension will be the same as that of <code>matrices</code>, and the second will be 2; this array can therefore represent a list of $n$ vectors;</li>\n",
    "    <li>a 1D NumPy array of length 2 called <code>coords</code>.\n",
    "</ul>\n",
    "\n",
    "It should then:\n",
    "<ul>\n",
    "    <li>choose a random integer, <code>index</code>, between $0$ and $(n-1)$ inclusive;</li>\n",
    "    <li>set <code>mat</code> equal to the $(2\\times2)$ array given by <code>matrices[index,:,:]</code>;</li>\n",
    "    <li>set <code>vec</code> equal to the 1D array given by <code>vectors[index,:]</code>;</li>\n",
    "    <li>return the value of <code>dot(mat, coords) + vec</code>.</li>\n",
    "</ul>\n",
    "\n",
    "To test your function, try calculating\n",
    "```python\n",
    "ifs_step(mats, vecs, np.array([0.5,0.5]))\n",
    "```\n",
    "where `mats` and `vecs` are defined as follows:"
   ]
  },
  {
   "cell_type": "code",
   "execution_count": 19,
   "id": "measured-fishing",
   "metadata": {
    "nbgrader": {
     "grade": false,
     "grade_id": "cell-a1ef602bdb9b065a",
     "locked": true,
     "schema_version": 3,
     "solution": false,
     "task": false
    }
   },
   "outputs": [],
   "source": [
    "mat0 = np.array([[1.0,0.0],[0.0,1.0]])/3\n",
    "mat1 = np.array([[np.cos(np.pi/3),-np.sin(np.pi/3)],[np.sin(np.pi/3),np.cos(np.pi/3)]])/3\n",
    "mat2 = np.array([[np.cos(-np.pi/3),-np.sin(-np.pi/3)],[np.sin(-np.pi/3),np.cos(-np.pi/3)]])/3\n",
    "mat3 = np.array([[1.0,0.0],[0.0,1.0]])/3\n",
    "\n",
    "mats = np.array([mat0,mat1,mat2,mat3])\n",
    "\n",
    "vec0 = np.array([0.0,0.0])\n",
    "vec1 = np.array([1.0/3,0.0])\n",
    "vec2 = np.array([0.5,np.sqrt(3)/6])\n",
    "vec3 = np.array([2.0/3,0.0])\n",
    "\n",
    "vecs = np.array([vec0,vec1,vec2,vec3])"
   ]
  },
  {
   "cell_type": "code",
   "execution_count": 20,
   "id": "powerful-chassis",
   "metadata": {
    "nbgrader": {
     "grade": false,
     "grade_id": "cell-908b7a8446becda5",
     "locked": false,
     "schema_version": 3,
     "solution": true,
     "task": false
    }
   },
   "outputs": [],
   "source": [
    "def ifs_step(matrices, vectors, coords):\n",
    "    ### BEGIN SOLUTION\n",
    "    from numpy.random import randint\n",
    "    from numpy import dot\n",
    "    n = len(matrices)\n",
    "    r = randint(n)\n",
    "    return dot(matrices[r,:,:],coords)+vectors[r,:]\n",
    "    ### END SOLUTION"
   ]
  },
  {
   "cell_type": "code",
   "execution_count": 21,
   "id": "convinced-sampling",
   "metadata": {
    "nbgrader": {
     "grade": true,
     "grade_id": "cell-cbbb42020161863b",
     "locked": true,
     "points": 1,
     "schema_version": 3,
     "solution": false,
     "task": false
    }
   },
   "outputs": [
    {
     "name": "stdout",
     "output_type": "stream",
     "text": [
      "Test passed!\n"
     ]
    },
    {
     "data": {
      "text/plain": [
       "1"
      ]
     },
     "execution_count": 21,
     "metadata": {},
     "output_type": "execute_result"
    }
   ],
   "source": [
    "# 1 Mark\n",
    "# Do not try to delete this cell\n",
    "# Run this cell for grading\n",
    "_globals = globals()\n",
    "question4a(_globals)"
   ]
  },
  {
   "cell_type": "markdown",
   "id": "unsigned-assist",
   "metadata": {
    "nbgrader": {
     "grade": false,
     "grade_id": "cell-a7116e8e7681c818",
     "locked": true,
     "schema_version": 3,
     "solution": false,
     "task": false
    }
   },
   "source": [
    "(b) Write, and test on the same matrices and vectors as in part (a), a function called `iterate_ifs` which takes as its arguments `matrices`, `vectors`, an initial value `coords0` and non-negative ints `nskip` and `niterate`. It should then:\n",
    "\n",
    "<ul>\n",
    "    <li>iterate <code>ifs_step</code>, using these values of <code>matrices</code> and <code>vectors</code>, a total of <code>nskip</code> times, starting with <code>coords0</code>, and discarding all iterates except the most recent;</li>\n",
    "    <li>initialize <code>coords_array</code> as a $(1\\times2)$ array whose first and only row is the most recent iterate of <code>ifs_step</code>;</li>    \n",
    "    <li>iterate <code>ifs_step</code>, using these values of <code>matrices</code> and <code>vectors</code>, a total of <code>niterate</code> times, starting with that most recent iterate, and making each fresh iterate a new row of <code>coords_array</code>;</li>\n",
    "    <li>return the final value of <code>coords_array</code>, which should be a 2D array with dimensions <code>(niterate + 1)</code> by $2$.</li>\n",
    "</ul>"
   ]
  },
  {
   "cell_type": "code",
   "execution_count": 22,
   "id": "loving-match",
   "metadata": {
    "nbgrader": {
     "grade": false,
     "grade_id": "cell-5d14c0bc80e91162",
     "locked": false,
     "schema_version": 3,
     "solution": true,
     "task": false
    }
   },
   "outputs": [],
   "source": [
    "def iterate_ifs(matrices, vectors, coords0, nskip, niterate):\n",
    "    ### BEGIN SOLUTION\n",
    "    from numpy import append\n",
    "    coords = coords0\n",
    "    for n in range(nskip):\n",
    "        coords = ifs_step(matrices, vectors, coords)\n",
    "    coords_array = np.array([coords])\n",
    "    for n in range(niterate):\n",
    "        coords = ifs_step(matrices, vectors, coords)\n",
    "        coords_array = np.append(coords_array,[coords],axis=0)\n",
    "    return coords_array\n",
    "    ### END SOLUTION"
   ]
  },
  {
   "cell_type": "code",
   "execution_count": 23,
   "id": "nominated-innocent",
   "metadata": {
    "nbgrader": {
     "grade": true,
     "grade_id": "cell-fe82c19cc4286df2",
     "locked": true,
     "points": 1,
     "schema_version": 3,
     "solution": false,
     "task": false
    }
   },
   "outputs": [
    {
     "name": "stdout",
     "output_type": "stream",
     "text": [
      "Test passed!\n"
     ]
    },
    {
     "data": {
      "text/plain": [
       "1"
      ]
     },
     "execution_count": 23,
     "metadata": {},
     "output_type": "execute_result"
    }
   ],
   "source": [
    "# 1 Mark\n",
    "# Do not try to delete this cell\n",
    "# Run this cell for grading\n",
    "_globals = globals()\n",
    "question4b(_globals)"
   ]
  },
  {
   "cell_type": "markdown",
   "id": "temporal-atmosphere",
   "metadata": {
    "nbgrader": {
     "grade": false,
     "grade_id": "cell-cf3ba52035e5870d",
     "locked": true,
     "schema_version": 3,
     "solution": false,
     "task": false
    }
   },
   "source": [
    "(c) Write a function called `ifs_plot` which should take the same arguments as `iterate_ifs`, together with a keyword-only argument, `markersize`, with default value 0.5. It should then calculate the value of `iterate_ifs(matrices, vectors, coords0, nskip, niterate)`, as a 2D array with dimensions <code>(niterate + 1)</code> by $2$, and create a point plot using column 0 of this array for $x$-values, and column 1 for $y$-values. The marker size should be determined by the value of the keyword-only argument `markersize`. The figure size should be something sensible like 10 by 10, and the scales on the axes should be equal.\n",
    "\n",
    "Test your function using the matrices and vectors from part (a), with `nskip` set to 100 and `niterate` set to 10000. Choose a suitable marker size. Make the initial coordinates $(0.5, 0.5)$. Make the scales the same on both axes.\n",
    "\n",
    "Autograding will be no help here, but you ought to see quite an interesting plot."
   ]
  },
  {
   "cell_type": "code",
   "execution_count": 24,
   "id": "military-insured",
   "metadata": {
    "nbgrader": {
     "grade": false,
     "grade_id": "cell-bc580958691bcd60",
     "locked": false,
     "schema_version": 3,
     "solution": true,
     "task": false
    }
   },
   "outputs": [
    {
     "data": {
      "image/png": "[encoded data removed]",
      "text/plain": [
       "<Figure size 640x480 with 1 Axes>"
      ]
     },
     "metadata": {},
     "output_type": "display_data"
    }
   ],
   "source": [
    "def ifs_plot(matrices, vectors, coords0, nskip, niterate, *, markersize=0.5):\n",
    "    ### BEGIN SOLUTION\n",
    "    import matplotlib.pyplot as plt\n",
    "    coords_array = iterate_ifs(matrices, vectors, coords0, nskip, niterate)\n",
    "    plt.plot(coords_array[:,0],coords_array[:,1], '.', markersize=markersize)\n",
    "    ifs_plot(mats,vecs,np.array([0.5,0.5]), 100, 10000, markersize=0.1)\n",
    "    plt.axis('equal');\n",
    "    ### END SOLUTION"
   ]
  },
  {
   "cell_type": "markdown",
   "id": "final-prefix",
   "metadata": {
    "nbgrader": {
     "grade": false,
     "grade_id": "cell-535f006f6ec08df5",
     "locked": true,
     "schema_version": 3,
     "solution": false,
     "task": false
    }
   },
   "source": [
    "(d) Amend your `ifs_step` function so that it accepts an optional, keyword-only argument, called `weights`, whose default value `None`. If the value of `weights` is `None`, your function should do exactly the same as before (though not necessarily in exactly the same way). \n",
    "\n",
    "But optionally, the user may give `weights` a <em>list</em> as its value, such as `[1, 4, 2, 2]`. If she does this, the choice of matrix and vector is made with <em>weighted probabilities</em>; in this case $1/9$, $4/9$, $2/9$ and $2/9$ respectively.\n",
    "\n",
    "Test your new function."
   ]
  },
  {
   "cell_type": "code",
   "execution_count": 25,
   "id": "chronic-complement",
   "metadata": {
    "nbgrader": {
     "grade": false,
     "grade_id": "cell-331cb1647fe3fa18",
     "locked": false,
     "schema_version": 3,
     "solution": true,
     "task": false
    }
   },
   "outputs": [],
   "source": [
    "def ifs_step(matrices, vectors, coords, *, weights=None):\n",
    "    ### BEGIN SOLUTION\n",
    "    from random import choices\n",
    "    from numpy import dot\n",
    "    n = len(matrices)\n",
    "    r = choices(range(n),weights=weights)[0]\n",
    "    return dot(matrices[r,:,:],coords)+vectors[r,:]\n",
    "    ### END SOLUTION"
   ]
  },
  {
   "cell_type": "code",
   "execution_count": 26,
   "id": "rental-pipeline",
   "metadata": {
    "nbgrader": {
     "grade": true,
     "grade_id": "cell-1bba6fa67d2c6e91",
     "locked": true,
     "points": 3,
     "schema_version": 3,
     "solution": false,
     "task": false
    }
   },
   "outputs": [
    {
     "name": "stdout",
     "output_type": "stream",
     "text": [
      "Testing with default weights\n",
      "Test passed!\n",
      "\n",
      "Testing with set weights: typical case\n",
      "Test passed!\n",
      "\n",
      "Testing with set weights: edge case\n",
      "Test passed!\n",
      "\n",
      "3 out of 3\n"
     ]
    },
    {
     "data": {
      "text/plain": [
       "3"
      ]
     },
     "execution_count": 26,
     "metadata": {},
     "output_type": "execute_result"
    }
   ],
   "source": [
    "# 3 Marks\n",
    "# Do not try to delete this cell\n",
    "# Run this cell for grading\n",
    "_globals = globals()\n",
    "question4d(_globals)"
   ]
  },
  {
   "cell_type": "markdown",
   "id": "lightweight-speech",
   "metadata": {
    "nbgrader": {
     "grade": false,
     "grade_id": "cell-90967450e8de6505",
     "locked": true,
     "schema_version": 3,
     "solution": false,
     "task": false
    }
   },
   "source": [
    "(e) Amend your `iterate_ifs` and `ifs_plot` functions to accept and use the optional keyword-only argument `weights`, and test the latter using the transformation matrices\n",
    "\n",
    "$$\\left(\\begin{array}{cc}\n",
    "0.0&0.0\\\\0.0&0.16\\end{array}\\right),\n",
    "\\left(\\begin{array}{cc}\n",
    "0.85&0.04\\\\-0.04&0.85\\end{array}\\right),\n",
    "\\left(\\begin{array}{cc}\n",
    "0.20&-0.26\\\\0.23&0.22\\end{array}\\right),\n",
    "\\left(\\begin{array}{cc}\n",
    "-0.15&0.28\\\\0.26&0.24\\end{array}\\right)$$\n",
    "\n",
    "and the translation vectors\n",
    "\n",
    "$$\\left(\\begin{array}{c}\n",
    "0.0\\\\0.0\\end{array}\\right),\n",
    "\\left(\\begin{array}{c}\n",
    "0.0\\\\1.6\\end{array}\\right),\n",
    "\\left(\\begin{array}{c}\n",
    "0.0\\\\1.6\\end{array}\\right),\n",
    "\\left(\\begin{array}{c}\n",
    "0.0\\\\0.44\\end{array}\\right).$$\n",
    "\n",
    "The weights should be 1, 85, 7 and 7.\n",
    "\n",
    "Use an `nskip` value of 100, an `niterate` value of 50000 if you can (less if that takes ages). Again, the initial coordinates $(0.5, 0.5)$ should be fine.\n",
    "\n",
    "Autograding won't help with the final plot, but it ought to look really good."
   ]
  },
  {
   "cell_type": "code",
   "execution_count": 29,
   "id": "diagnostic-cream",
   "metadata": {
    "nbgrader": {
     "grade": false,
     "grade_id": "cell-9da17aa155549a98",
     "locked": false,
     "schema_version": 3,
     "solution": true,
     "task": false
    }
   },
   "outputs": [],
   "source": [
    "def iterate_ifs(matrices, vectors, coords0, nskip, niterate, *, weights=None):\n",
    "    ### BEGIN SOLUTIONx\n",
    "    from numpy import append\n",
    "    for n in range(nskip):\n",
    "        coords0 = ifs_step(matrices, vectors, coords0, weights=weights)\n",
    "    coords_array = np.array([coords])\n",
    "    for n in range(niterate):\n",
    "        coords0 = ifs_step(matrices, vectors, coords0, weights=weights)\n",
    "        coords_array = np.append(coords_array,[coords0],axis=0)\n",
    "    return coords_array\n",
    "    ### END SOLUTION"
   ]
  },
  {
   "cell_type": "code",
   "execution_count": 30,
   "id": "identical-amendment",
   "metadata": {
    "nbgrader": {
     "grade": true,
     "grade_id": "cell-bf0a82655e5faa3e",
     "locked": true,
     "points": 3,
     "schema_version": 3,
     "solution": false,
     "task": false
    }
   },
   "outputs": [
    {
     "name": "stdout",
     "output_type": "stream",
     "text": [
      "Testing with default weights\n",
      "Test failed!\n",
      "\n",
      "Testing with set weights: typical case\n",
      "Test failed!\n",
      "\n",
      "Testing with set weights: edge case\n",
      "Test failed!\n"
     ]
    },
    {
     "ename": "AssertionError",
     "evalue": "Test failed overall!",
     "output_type": "error",
     "traceback": [
      "\u001b[1;31m---------------------------------------------------------------------------\u001b[0m",
      "\u001b[1;31mAssertionError\u001b[0m                            Traceback (most recent call last)",
      "\u001b[1;32m~\\AppData\\Local\\Temp\\ipykernel_14028\\2684316636.py\u001b[0m in \u001b[0;36m<module>\u001b[1;34m\u001b[0m\n\u001b[0;32m      4\u001b[0m \u001b[1;31m# Run this cell for grading\u001b[0m\u001b[1;33m\u001b[0m\u001b[1;33m\u001b[0m\u001b[0m\n\u001b[0;32m      5\u001b[0m \u001b[0m_globals\u001b[0m \u001b[1;33m=\u001b[0m \u001b[0mglobals\u001b[0m\u001b[1;33m(\u001b[0m\u001b[1;33m)\u001b[0m\u001b[1;33m\u001b[0m\u001b[1;33m\u001b[0m\u001b[0m\n\u001b[1;32m----> 6\u001b[1;33m \u001b[0mquestion4e\u001b[0m\u001b[1;33m(\u001b[0m\u001b[0m_globals\u001b[0m\u001b[1;33m)\u001b[0m\u001b[1;33m\u001b[0m\u001b[1;33m\u001b[0m\u001b[0m\n\u001b[0m",
      "\u001b[1;32m~\\Documents\\GitHub\\math40006-2022-23-term2-week4-Lawrence3595256\\autograder_term2week4.py\u001b[0m in \u001b[0;36mquestion4e\u001b[1;34m(_globals)\u001b[0m\n\u001b[0;32m    732\u001b[0m         \u001b[1;32mreturn\u001b[0m \u001b[0mscore\u001b[0m\u001b[1;33m\u001b[0m\u001b[1;33m\u001b[0m\u001b[0m\n\u001b[0;32m    733\u001b[0m     \u001b[1;32melse\u001b[0m\u001b[1;33m:\u001b[0m\u001b[1;33m\u001b[0m\u001b[1;33m\u001b[0m\u001b[0m\n\u001b[1;32m--> 734\u001b[1;33m         \u001b[1;32mraise\u001b[0m \u001b[0mAssertionError\u001b[0m\u001b[1;33m(\u001b[0m\u001b[1;34m'Test failed overall!'\u001b[0m\u001b[1;33m)\u001b[0m\u001b[1;33m\u001b[0m\u001b[1;33m\u001b[0m\u001b[0m\n\u001b[0m",
      "\u001b[1;31mAssertionError\u001b[0m: Test failed overall!"
     ]
    }
   ],
   "source": [
    "# For testing iterate_ifs\n",
    "# 3 Marks\n",
    "# Do not try to delete this cell\n",
    "# Run this cell for grading\n",
    "_globals = globals()\n",
    "question4e(_globals)"
   ]
  },
  {
   "cell_type": "code",
   "execution_count": 31,
   "id": "bizarre-baking",
   "metadata": {
    "nbgrader": {
     "grade": false,
     "grade_id": "cell-f3911287c3952ecb",
     "locked": false,
     "schema_version": 3,
     "solution": true,
     "task": false
    }
   },
   "outputs": [
    {
     "ename": "NameError",
     "evalue": "name 'coords' is not defined",
     "output_type": "error",
     "traceback": [
      "\u001b[1;31m---------------------------------------------------------------------------\u001b[0m",
      "\u001b[1;31mNameError\u001b[0m                                 Traceback (most recent call last)",
      "\u001b[1;32m~\\AppData\\Local\\Temp\\ipykernel_14028\\2567828788.py\u001b[0m in \u001b[0;36m<module>\u001b[1;34m\u001b[0m\n\u001b[0;32m     14\u001b[0m \u001b[0mvec4\u001b[0m \u001b[1;33m=\u001b[0m \u001b[0mnp\u001b[0m\u001b[1;33m.\u001b[0m\u001b[0marray\u001b[0m\u001b[1;33m(\u001b[0m\u001b[1;33m[\u001b[0m\u001b[1;36m0.0\u001b[0m\u001b[1;33m,\u001b[0m\u001b[1;36m0.44\u001b[0m\u001b[1;33m]\u001b[0m\u001b[1;33m)\u001b[0m\u001b[1;33m\u001b[0m\u001b[1;33m\u001b[0m\u001b[0m\n\u001b[0;32m     15\u001b[0m \u001b[0mvecs\u001b[0m \u001b[1;33m=\u001b[0m \u001b[0mnp\u001b[0m\u001b[1;33m.\u001b[0m\u001b[0marray\u001b[0m\u001b[1;33m(\u001b[0m\u001b[1;33m[\u001b[0m\u001b[0mvec1\u001b[0m\u001b[1;33m,\u001b[0m\u001b[0mvec2\u001b[0m\u001b[1;33m,\u001b[0m\u001b[0mvec3\u001b[0m\u001b[1;33m,\u001b[0m\u001b[0mvec4\u001b[0m\u001b[1;33m]\u001b[0m\u001b[1;33m)\u001b[0m\u001b[1;33m\u001b[0m\u001b[1;33m\u001b[0m\u001b[0m\n\u001b[1;32m---> 16\u001b[1;33m ifs_plot(mats,vecs,np.array([0.5,0.5]), 100, 50000, markersize=0.1, \n\u001b[0m\u001b[0;32m     17\u001b[0m          weights = [0.01, 0.85, 0.07, 0.07])\n\u001b[0;32m     18\u001b[0m \u001b[0mplt\u001b[0m\u001b[1;33m.\u001b[0m\u001b[0maxis\u001b[0m\u001b[1;33m(\u001b[0m\u001b[1;34m'equal'\u001b[0m\u001b[1;33m)\u001b[0m\u001b[1;33m;\u001b[0m\u001b[1;33m\u001b[0m\u001b[1;33m\u001b[0m\u001b[0m\n",
      "\u001b[1;32m~\\AppData\\Local\\Temp\\ipykernel_14028\\2567828788.py\u001b[0m in \u001b[0;36mifs_plot\u001b[1;34m(matrices, vectors, coords0, nskip, niterate, markersize, weights)\u001b[0m\n\u001b[0;32m      2\u001b[0m     \u001b[1;31m### BEGIN SOLUTION\u001b[0m\u001b[1;33m\u001b[0m\u001b[1;33m\u001b[0m\u001b[0m\n\u001b[0;32m      3\u001b[0m     \u001b[1;32mimport\u001b[0m \u001b[0mmatplotlib\u001b[0m\u001b[1;33m.\u001b[0m\u001b[0mpyplot\u001b[0m \u001b[1;32mas\u001b[0m \u001b[0mplt\u001b[0m\u001b[1;33m\u001b[0m\u001b[1;33m\u001b[0m\u001b[0m\n\u001b[1;32m----> 4\u001b[1;33m     \u001b[0mcoords_array\u001b[0m \u001b[1;33m=\u001b[0m \u001b[0miterate_ifs\u001b[0m\u001b[1;33m(\u001b[0m\u001b[0mmatrices\u001b[0m\u001b[1;33m,\u001b[0m \u001b[0mvectors\u001b[0m\u001b[1;33m,\u001b[0m \u001b[0mcoords0\u001b[0m\u001b[1;33m,\u001b[0m \u001b[0mnskip\u001b[0m\u001b[1;33m,\u001b[0m \u001b[0mniterate\u001b[0m\u001b[1;33m,\u001b[0m \u001b[0mweights\u001b[0m\u001b[1;33m=\u001b[0m\u001b[0mweights\u001b[0m\u001b[1;33m)\u001b[0m\u001b[1;33m\u001b[0m\u001b[1;33m\u001b[0m\u001b[0m\n\u001b[0m\u001b[0;32m      5\u001b[0m     \u001b[0mplt\u001b[0m\u001b[1;33m.\u001b[0m\u001b[0mplot\u001b[0m\u001b[1;33m(\u001b[0m\u001b[0mcoords_array\u001b[0m\u001b[1;33m[\u001b[0m\u001b[1;33m:\u001b[0m\u001b[1;33m,\u001b[0m\u001b[1;36m0\u001b[0m\u001b[1;33m]\u001b[0m\u001b[1;33m,\u001b[0m\u001b[0mcoords_array\u001b[0m\u001b[1;33m[\u001b[0m\u001b[1;33m:\u001b[0m\u001b[1;33m,\u001b[0m\u001b[1;36m1\u001b[0m\u001b[1;33m]\u001b[0m\u001b[1;33m,\u001b[0m \u001b[1;34m'.'\u001b[0m\u001b[1;33m,\u001b[0m \u001b[0mmarkersize\u001b[0m\u001b[1;33m=\u001b[0m\u001b[0mmarkersize\u001b[0m\u001b[1;33m)\u001b[0m\u001b[1;33m\u001b[0m\u001b[1;33m\u001b[0m\u001b[0m\n\u001b[0;32m      6\u001b[0m \u001b[0mmat1\u001b[0m \u001b[1;33m=\u001b[0m \u001b[0mnp\u001b[0m\u001b[1;33m.\u001b[0m\u001b[0marray\u001b[0m\u001b[1;33m(\u001b[0m\u001b[1;33m[\u001b[0m\u001b[1;33m[\u001b[0m\u001b[1;36m0.0\u001b[0m\u001b[1;33m,\u001b[0m\u001b[1;36m0.0\u001b[0m\u001b[1;33m]\u001b[0m\u001b[1;33m,\u001b[0m\u001b[1;33m[\u001b[0m\u001b[1;36m0.0\u001b[0m\u001b[1;33m,\u001b[0m\u001b[1;36m0.16\u001b[0m\u001b[1;33m]\u001b[0m\u001b[1;33m]\u001b[0m\u001b[1;33m)\u001b[0m\u001b[1;33m\u001b[0m\u001b[1;33m\u001b[0m\u001b[0m\n",
      "\u001b[1;32m~\\AppData\\Local\\Temp\\ipykernel_14028\\497474577.py\u001b[0m in \u001b[0;36miterate_ifs\u001b[1;34m(matrices, vectors, coords0, nskip, niterate, weights)\u001b[0m\n\u001b[0;32m      4\u001b[0m     \u001b[1;32mfor\u001b[0m \u001b[0mn\u001b[0m \u001b[1;32min\u001b[0m \u001b[0mrange\u001b[0m\u001b[1;33m(\u001b[0m\u001b[0mnskip\u001b[0m\u001b[1;33m)\u001b[0m\u001b[1;33m:\u001b[0m\u001b[1;33m\u001b[0m\u001b[1;33m\u001b[0m\u001b[0m\n\u001b[0;32m      5\u001b[0m         \u001b[0mcoords0\u001b[0m \u001b[1;33m=\u001b[0m \u001b[0mifs_step\u001b[0m\u001b[1;33m(\u001b[0m\u001b[0mmatrices\u001b[0m\u001b[1;33m,\u001b[0m \u001b[0mvectors\u001b[0m\u001b[1;33m,\u001b[0m \u001b[0mcoords0\u001b[0m\u001b[1;33m,\u001b[0m \u001b[0mweights\u001b[0m\u001b[1;33m=\u001b[0m\u001b[0mweights\u001b[0m\u001b[1;33m)\u001b[0m\u001b[1;33m\u001b[0m\u001b[1;33m\u001b[0m\u001b[0m\n\u001b[1;32m----> 6\u001b[1;33m     \u001b[0mcoords_array\u001b[0m \u001b[1;33m=\u001b[0m \u001b[0mnp\u001b[0m\u001b[1;33m.\u001b[0m\u001b[0marray\u001b[0m\u001b[1;33m(\u001b[0m\u001b[1;33m[\u001b[0m\u001b[0mcoords\u001b[0m\u001b[1;33m]\u001b[0m\u001b[1;33m)\u001b[0m\u001b[1;33m\u001b[0m\u001b[1;33m\u001b[0m\u001b[0m\n\u001b[0m\u001b[0;32m      7\u001b[0m     \u001b[1;32mfor\u001b[0m \u001b[0mn\u001b[0m \u001b[1;32min\u001b[0m \u001b[0mrange\u001b[0m\u001b[1;33m(\u001b[0m\u001b[0mniterate\u001b[0m\u001b[1;33m)\u001b[0m\u001b[1;33m:\u001b[0m\u001b[1;33m\u001b[0m\u001b[1;33m\u001b[0m\u001b[0m\n\u001b[0;32m      8\u001b[0m         \u001b[0mcoords0\u001b[0m \u001b[1;33m=\u001b[0m \u001b[0mifs_step\u001b[0m\u001b[1;33m(\u001b[0m\u001b[0mmatrices\u001b[0m\u001b[1;33m,\u001b[0m \u001b[0mvectors\u001b[0m\u001b[1;33m,\u001b[0m \u001b[0mcoords0\u001b[0m\u001b[1;33m,\u001b[0m \u001b[0mweights\u001b[0m\u001b[1;33m=\u001b[0m\u001b[0mweights\u001b[0m\u001b[1;33m)\u001b[0m\u001b[1;33m\u001b[0m\u001b[1;33m\u001b[0m\u001b[0m\n",
      "\u001b[1;31mNameError\u001b[0m: name 'coords' is not defined"
     ]
    }
   ],
   "source": [
    "def ifs_plot(matrices, vectors, coords0, nskip, niterate, *, markersize=0.5, weights=None):\n",
    "    ### BEGIN SOLUTION\n",
    "    import matplotlib.pyplot as plt\n",
    "    coords_array = iterate_ifs(matrices, vectors, coords0, nskip, niterate, weights=weights)\n",
    "    plt.plot(coords_array[:,0],coords_array[:,1], '.', markersize=markersize)\n",
    "mat1 = np.array([[0.0,0.0],[0.0,0.16]])\n",
    "mat2 = np.array([[0.85,0.04],[-0.04,0.85]])\n",
    "mat3 = np.array([[0.20,-0.26],[0.23,0.22]])\n",
    "mat4 = np.array([[-0.15,0.28],[0.26,0.24]])\n",
    "mats = np.array([mat1,mat2,mat3,mat4])\n",
    "vec1 = np.array([0.0,0.0])\n",
    "vec2 = np.array([0.0,1.6])\n",
    "vec3 = np.array([0.0,1.6])\n",
    "vec4 = np.array([0.0,0.44])\n",
    "vecs = np.array([vec1,vec2,vec3,vec4])\n",
    "ifs_plot(mats,vecs,np.array([0.5,0.5]), 100, 50000, markersize=0.1, \n",
    "         weights = [0.01, 0.85, 0.07, 0.07])\n",
    "plt.axis('equal');\n",
    "### END SOLUTION"
   ]
  },
  {
   "cell_type": "markdown",
   "id": "portable-soundtrack",
   "metadata": {
    "nbgrader": {
     "grade": false,
     "grade_id": "cell-f139bf500a2b6ce7",
     "locked": true,
     "schema_version": 3,
     "solution": false,
     "task": false
    }
   },
   "source": [
    "## Bonus Question\n",
    "\n",
    "Consider a list of integers denoting the positions of people queuing in a line, where the person in the front of the queue is integer 1, the second person 2, all the way to the last person in position $n$. In this queue, an individual can bribe the person directly in front of them and can at most make two bribes. Write a function that takes in a list of integers and determines the number of bribes required to get the queue into its current state. If the queue is not possible to achieve through the bribing mechanism described above, then the function should return the string `not possible`. \n",
    "\n",
    "**Example:**\n",
    "\n",
    "Given the input `[2, 1, 5, 3, 4]`, the function should return 3, this being the number of bribes to move from `[1, 2, 3, 4, 5]` to the given input."
   ]
  },
  {
   "cell_type": "code",
   "execution_count": 18,
   "id": "cleared-belarus",
   "metadata": {
    "nbgrader": {
     "grade": false,
     "grade_id": "cell-f1854e2dfb7cec21",
     "locked": false,
     "schema_version": 3,
     "solution": true,
     "task": false
    }
   },
   "outputs": [
    {
     "data": {
      "text/plain": [
       "7"
      ]
     },
     "execution_count": 18,
     "metadata": {},
     "output_type": "execute_result"
    }
   ],
   "source": [
    "def queue_bribe(queue):\n",
    "    \"\"\"\n",
    "    Given an arrangement of the integers between 1 and n,\n",
    "    returns the number of transpositions needed to obtain\n",
    "    this arrangement, starting with [1, 2, ..., n], where\n",
    "    each element may migrate to the left a maximum of two\n",
    "    places.\n",
    "    \"\"\"\n",
    "    ### BEGIN SOLUTION\n",
    "    \n",
    "    # initialize count\n",
    "    count = 0\n",
    "    \n",
    "    # loop over right elements (starting at zeroth!)\n",
    "    for j in range(len(queue)):\n",
    "        # pick out element number j\n",
    "        right_el = queue[j]\n",
    "        # if right element has migrated more than two places left...\n",
    "        if right_el - j > 3:\n",
    "            # ... arrangement is impossible given the rules\n",
    "            return 'not possible'\n",
    "        # loop over left elements, going back no further than necessary\n",
    "        for i in range(max(right_el - 2, 0), j):\n",
    "            # if there has been a transposition...\n",
    "            if queue[i] > right_el:\n",
    "                #... increment the count\n",
    "                count += 1\n",
    "    # return total number of transpositions\n",
    "    return count\n",
    "    \n",
    "    ### END SOLUTION\n",
    "queue_bribe([1, 2, 5, 3, 7, 8, 6, 4])"
   ]
  },
  {
   "cell_type": "code",
   "execution_count": 15,
   "id": "stuck-kitchen",
   "metadata": {
    "nbgrader": {
     "grade": true,
     "grade_id": "cell-c120655e8ffe380d",
     "locked": true,
     "points": 1,
     "schema_version": 3,
     "solution": false,
     "task": false
    }
   },
   "outputs": [
    {
     "name": "stdout",
     "output_type": "stream",
     "text": [
      "Test case passed!!!\n"
     ]
    }
   ],
   "source": [
    "# Run this test cell to check your code\n",
    "# Do not delete this cell\n",
    "# 1 mark\n",
    "# Unit test\n",
    "q = [2, 1, 5, 3, 4]\n",
    "tans = 3\n",
    "assert(queue_bribe(q) == tans)\n",
    "print('Test case passed!!!')"
   ]
  },
  {
   "cell_type": "code",
   "execution_count": 16,
   "id": "hydraulic-things",
   "metadata": {
    "nbgrader": {
     "grade": true,
     "grade_id": "cell-11db81758bc1a9a2",
     "locked": true,
     "points": 1,
     "schema_version": 3,
     "solution": false,
     "task": false
    }
   },
   "outputs": [
    {
     "name": "stdout",
     "output_type": "stream",
     "text": [
      "Test case passed!!!\n"
     ]
    }
   ],
   "source": [
    "# Run this test cell to check your code\n",
    "# Do not delete this cell\n",
    "# 1 mark\n",
    "# Unit test\n",
    "q = [2, 5, 1, 3, 4]\n",
    "tans = 'not possible'\n",
    "assert(queue_bribe(q) == tans)\n",
    "print('Test case passed!!!')"
   ]
  },
  {
   "cell_type": "code",
   "execution_count": 17,
   "id": "removed-domain",
   "metadata": {
    "nbgrader": {
     "grade": true,
     "grade_id": "cell-64aac9242a875182",
     "locked": true,
     "points": 3,
     "schema_version": 3,
     "solution": false,
     "task": false
    }
   },
   "outputs": [
    {
     "name": "stdout",
     "output_type": "stream",
     "text": [
      "Hidden test case passed!!!\n"
     ]
    }
   ],
   "source": [
    "# Hidden test\n",
    "# No output will be produced\n",
    "# 3 marks\n",
    "### BEGIN HIDDEN TESTS\n",
    "q = [1, 2, 5, 3, 7, 8, 6, 4]\n",
    "tans = 7\n",
    "assert(queue_bribe(q) == tans)\n",
    "q = [1, 2, 5, 3, 4, 7, 8, 6]\n",
    "tans = 4\n",
    "assert(queue_bribe(q) == tans)\n",
    "print('Hidden test case passed!!!')\n",
    "### END HIDDEN TESTS"
   ]
  },
  {
   "cell_type": "code",
   "execution_count": null,
   "id": "mobile-knight",
   "metadata": {},
   "outputs": [],
   "source": []
  }
 ],
 "metadata": {
  "celltoolbar": "Create Assignment",
  "kernelspec": {
   "display_name": "Python 3 (ipykernel)",
   "language": "python",
   "name": "python3"
  },
  "language_info": {
   "codemirror_mode": {
    "name": "ipython",
    "version": 3
   },
   "file_extension": ".py",
   "mimetype": "text/x-python",
   "name": "python",
   "nbconvert_exporter": "python",
   "pygments_lexer": "ipython3",
   "version": "3.9.13"
  }
 },
 "nbformat": 4,
 "nbformat_minor": 5
}
